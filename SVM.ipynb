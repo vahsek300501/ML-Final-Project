{
  "nbformat": 4,
  "nbformat_minor": 0,
  "metadata": {
    "colab": {
      "name": "ML Testing",
      "provenance": [],
      "collapsed_sections": []
    },
    "kernelspec": {
      "name": "python3",
      "display_name": "Python 3"
    },
    "language_info": {
      "name": "python"
    }
  },
  "cells": [
    {
      "cell_type": "code",
      "metadata": {
        "colab": {
          "base_uri": "https://localhost:8080/"
        },
        "id": "LNbFM7OWt-Zp",
        "outputId": "185cbc53-0e3c-479d-f61b-385e065aceba"
      },
      "source": [
        "import pandas as pd\n",
        "import numpy as np\n",
        "import matplotlib.pyplot as plt\n",
        "import nltk\n",
        "import pickle\n",
        "nltk.download('punkt')\n",
        "nltk.download('wordnet')\n",
        "nltk.download('averaged_perceptron_tagger')\n",
        "nltk.download('stopwords')\n",
        "from nltk.tokenize import word_tokenize\n",
        "from nltk import pos_tag\n",
        "from nltk.corpus import stopwords\n",
        "from nltk.stem import WordNetLemmatizer\n",
        "from sklearn.preprocessing import LabelEncoder\n",
        "from collections import defaultdict\n",
        "from nltk.corpus import wordnet as wn\n",
        "from sklearn.feature_extraction.text import TfidfVectorizer\n",
        "from sklearn import model_selection, naive_bayes, svm\n",
        "from sklearn.metrics import accuracy_score\n",
        "from sklearn.metrics import confusion_matrix\n",
        "from sklearn.metrics import precision_score\n",
        "from sklearn.metrics import recall_score"
      ],
      "execution_count": null,
      "outputs": [
        {
          "output_type": "stream",
          "name": "stdout",
          "text": [
            "[nltk_data] Downloading package punkt to /root/nltk_data...\n",
            "[nltk_data]   Package punkt is already up-to-date!\n",
            "[nltk_data] Downloading package wordnet to /root/nltk_data...\n",
            "[nltk_data]   Package wordnet is already up-to-date!\n",
            "[nltk_data] Downloading package averaged_perceptron_tagger to\n",
            "[nltk_data]     /root/nltk_data...\n",
            "[nltk_data]   Package averaged_perceptron_tagger is already up-to-\n",
            "[nltk_data]       date!\n",
            "[nltk_data] Downloading package stopwords to /root/nltk_data...\n",
            "[nltk_data]   Package stopwords is already up-to-date!\n"
          ]
        }
      ]
    },
    {
      "cell_type": "code",
      "metadata": {
        "id": "8xM11tx2uaCo"
      },
      "source": [
        "np.random.seed(500)"
      ],
      "execution_count": null,
      "outputs": []
    },
    {
      "cell_type": "code",
      "metadata": {
        "id": "w0eZt78Eud8G"
      },
      "source": [
        "Corpus = pd.read_csv(r\"/content/Sexist_Statements.csv\",encoding='latin-1')\n"
      ],
      "execution_count": null,
      "outputs": []
    },
    {
      "cell_type": "code",
      "metadata": {
        "id": "uOVdQh67wa2T",
        "colab": {
          "base_uri": "https://localhost:8080/"
        },
        "outputId": "8b030517-4cad-40ad-ffe9-32f52310f256"
      },
      "source": [
        "# Step - a : Remove blank rows if any.\n",
        "Corpus['Sentences'].dropna(inplace = True)\n",
        "\n",
        "# Step - b : Change all the text to lower case. This is required as python interprets 'dog' and 'DOG' differently\n",
        "Corpus['Sentences'] = [entry.lower() for entry in Corpus['Sentences']]\n",
        "\n",
        "# Step - c : Tokenization : In this each entry in the corpus will be broken into set of words\n",
        "Corpus['Sentences']= [word_tokenize(entry) for entry in Corpus['Sentences']]\n",
        "\n",
        "# Step - d : Remove Stop words, Non-Numeric and perfom Word Stemming/Lemmenting.\n",
        "# WordNetLemmatizer requires Pos tags to understand if the word is noun or verb or adjective etc. By default it is set to Noun\n",
        "tag_map = defaultdict(lambda : wn.NOUN)\n",
        "tag_map['J'] = wn.ADJ\n",
        "tag_map['V'] = wn.VERB\n",
        "tag_map['R'] = wn.ADV\n",
        "for index,entry in enumerate(Corpus['Sentences']):\n",
        "    # Declaring Empty List to store the words that follow the rules for this step\n",
        "    Final_words = []\n",
        "    # Initializing WordNetLemmatizer()\n",
        "    word_Lemmatized = WordNetLemmatizer()\n",
        "    # pos_tag function below will provide the 'tag' i.e if the word is Noun(N) or Verb(V) or something else.\n",
        "    for word, tag in pos_tag(entry):\n",
        "        # Below condition is to check for Stop words and consider only alphabets\n",
        "        if word not in stopwords.words('english') and word.isalpha():\n",
        "            word_Final = word_Lemmatized.lemmatize(word,tag_map[tag[0]])\n",
        "            Final_words.append(word_Final)\n",
        "    # The final processed set of words for each iteration will be stored in 'text_final'\n",
        "    Corpus.loc[index,'text_final'] = str(Final_words)\n",
        "\n",
        "print(Corpus['text_final'])"
      ],
      "execution_count": null,
      "outputs": [
        {
          "output_type": "stream",
          "name": "stdout",
          "text": [
            "0                                       ['woman', 'good']\n",
            "1                   ['dress', 'sexy', 'sign', 'contract']\n",
            "2                                              ['period']\n",
            "3                                      ['stop', 'bitchy']\n",
            "4       ['leave', 'early', 'child', 'instead', 'husband']\n",
            "                              ...                        \n",
            "1132    ['opportunity', 'like', 'night', 'owl', 'like'...\n",
            "1133    ['question', 'love', 'living', 'love', 'love',...\n",
            "1134    ['genius', 'master', 'ordinary', 'man', 'try',...\n",
            "1135    ['want', 'know', 'real', 'reason', 'behind', '...\n",
            "1136    ['questioning', 'important', 'breakthrough', '...\n",
            "Name: text_final, Length: 1137, dtype: object\n"
          ]
        }
      ]
    },
    {
      "cell_type": "code",
      "metadata": {
        "id": "7SBsUlDrwia6"
      },
      "source": [
        "Train_X, Test_X, Train_Y, Test_Y = model_selection.train_test_split(Corpus['text_final'],Corpus['Label'],test_size=0.3)\n",
        "\n",
        "Encoder = LabelEncoder()\n",
        "# print(Train_Y)\n",
        "Train_Y = Encoder.fit_transform(Train_Y)\n",
        "Test_Y = Encoder.fit_transform(Test_Y)\n",
        "# print(Train_Y)\n",
        "\n",
        "Tfidf_vect = TfidfVectorizer(max_features=5000)\n",
        "Tfidf_vect.fit(Corpus['text_final'])\n",
        "Train_X_Tfidf = Tfidf_vect.transform(Train_X)\n",
        "Test_X_Tfidf = Tfidf_vect.transform(Test_X)\n",
        "# print((Train_X))\n",
        "# print(Train_X_Tfidf)"
      ],
      "execution_count": null,
      "outputs": []
    },
    {
      "cell_type": "code",
      "metadata": {
        "colab": {
          "base_uri": "https://localhost:8080/",
          "height": 538
        },
        "id": "BAsQVf3n2HDk",
        "outputId": "178d0a34-292a-4bda-e1f9-326a7d0f164f"
      },
      "source": [
        "C_vals = [0.4, 0.5, 0.7, 0.75, 0.8, 0.9, 1, 1.2, 1.25, 1.4, 1.5, 2, 2.5, 3]\n",
        "accuracies = list()\n",
        "for c in C_vals:\n",
        "  SVM = svm.SVC(C=c, kernel='linear', degree=3, gamma='auto', probability=True)\n",
        "  SVM.fit(Train_X_Tfidf,Train_Y)\n",
        "\n",
        "  # predict the labels on validation dataset\n",
        "  predictions_SVM = SVM.predict(Test_X_Tfidf)\n",
        "  CM = (confusion_matrix(Test_Y, predictions_SVM))\n",
        "  PS=precision_score(Test_Y, predictions_SVM, average='binary')\n",
        "  RS=recall_score(Test_Y, predictions_SVM, average='binary')\n",
        "  print(c, \" -> \",accuracy_score(predictions_SVM, Test_Y)*100)\n",
        "  accuracies.append(accuracy_score(predictions_SVM, Test_Y)*100)\n",
        "\n",
        "plt.plot(C_vals, accuracies)"
      ],
      "execution_count": null,
      "outputs": [
        {
          "output_type": "stream",
          "name": "stdout",
          "text": [
            "0.4  ->  74.56140350877193\n",
            "0.5  ->  76.60818713450293\n",
            "0.7  ->  79.53216374269006\n",
            "0.75  ->  79.82456140350878\n",
            "0.8  ->  79.53216374269006\n",
            "0.9  ->  79.23976608187134\n",
            "1  ->  78.65497076023392\n",
            "1.2  ->  77.77777777777779\n",
            "1.25  ->  77.77777777777779\n",
            "1.4  ->  77.48538011695906\n",
            "1.5  ->  76.90058479532163\n",
            "2  ->  76.60818713450293\n",
            "2.5  ->  76.0233918128655\n",
            "3  ->  75.73099415204678\n"
          ]
        },
        {
          "output_type": "execute_result",
          "data": {
            "text/plain": [
              "[<matplotlib.lines.Line2D at 0x7fbd77746bd0>]"
            ]
          },
          "metadata": {},
          "execution_count": 71
        },
        {
          "output_type": "display_data",
          "data": {
            "image/png": "[encoded data removed]",
            "text/plain": [
              "<Figure size 432x288 with 1 Axes>"
            ]
          },
          "metadata": {
            "needs_background": "light"
          }
        }
      ]
    },
    {
      "cell_type": "code",
      "metadata": {
        "colab": {
          "base_uri": "https://localhost:8080/",
          "height": 355
        },
        "id": "yAcbxtB_8PXC",
        "outputId": "a9d114ac-97c7-46a0-9f90-77b46d31cbd8"
      },
      "source": [
        "kernel_list = ['linear', 'poly', 'rbf', 'sigmoid']\n",
        "accuracies = list()\n",
        "for k in kernel_list:\n",
        "  SVM = svm.SVC(C=0.75, kernel=k, degree=3, gamma='auto', probability=True)\n",
        "  SVM.fit(Train_X_Tfidf,Train_Y)\n",
        "\n",
        "  # predict the labels on validation dataset\n",
        "  predictions_SVM = SVM.predict(Test_X_Tfidf)\n",
        "  CM = (confusion_matrix(Test_Y, predictions_SVM))\n",
        "  PS=precision_score(Test_Y, predictions_SVM, average='binary')\n",
        "  RS=recall_score(Test_Y, predictions_SVM, average='binary')\n",
        "  print(c, \" -> \",accuracy_score(predictions_SVM, Test_Y)*100)\n",
        "  accuracies.append(accuracy_score(predictions_SVM, Test_Y)*100)\n",
        "\n",
        "plt.bar(kernel_list, accuracies)"
      ],
      "execution_count": null,
      "outputs": [
        {
          "output_type": "stream",
          "name": "stdout",
          "text": [
            "3  ->  79.82456140350878\n",
            "3  ->  49.41520467836257\n",
            "3  ->  49.41520467836257\n",
            "3  ->  49.41520467836257\n"
          ]
        },
        {
          "output_type": "execute_result",
          "data": {
            "text/plain": [
              "<BarContainer object of 4 artists>"
            ]
          },
          "metadata": {},
          "execution_count": 73
        },
        {
          "output_type": "display_data",
          "data": {
            "image/png": "[encoded data removed]",
            "text/plain": [
              "<Figure size 432x288 with 1 Axes>"
            ]
          },
          "metadata": {
            "needs_background": "light"
          }
        }
      ]
    },
    {
      "cell_type": "code",
      "metadata": {
        "id": "OVrPm_YewpES",
        "colab": {
          "base_uri": "https://localhost:8080/"
        },
        "outputId": "a0975451-6115-4f05-a299-2f42b96c6447"
      },
      "source": [
        "# Classifier - Algorithm - SVM\n",
        "# fit the training dataset on the classifier\n",
        "SVM = svm.SVC(C=0.75, kernel='linear', gamma='auto', probability=True)\n",
        "SVM.fit(Train_X_Tfidf,Train_Y)\n",
        "\n",
        "# predict the labels on validation dataset\n",
        "predictions_SVM = SVM.predict(Test_X_Tfidf)\n",
        "CM = (confusion_matrix(Test_Y, predictions_SVM))\n",
        "PS=precision_score(Test_Y, predictions_SVM, average='binary')\n",
        "RS=recall_score(Test_Y, predictions_SVM, average='binary')\n",
        "print(CM)\n",
        "print(\"SVM Precision Score ->\", PS)\n",
        "print(\"SVM Recall Score ->\", RS)\n",
        "print(\"SVM Accuracy Score -> \",accuracy_score(predictions_SVM, Test_Y)*100)\n",
        "filename = 'finalized_svm_model.sav'\n",
        "pickle.dump(SVM, open(filename, 'wb'))"
      ],
      "execution_count": null,
      "outputs": [
        {
          "output_type": "stream",
          "name": "stdout",
          "text": [
            "[[123  50]\n",
            " [ 19 150]]\n",
            "SVM Precision Score -> 0.75\n",
            "SVM Recall Score -> 0.8875739644970414\n",
            "SVM Accuracy Score ->  79.82456140350878\n"
          ]
        }
      ]
    },
    {
      "cell_type": "code",
      "metadata": {
        "id": "147WGHX-j7lX"
      },
      "source": [
        "temp, test_sentence, temp2, temp3 = model_selection.train_test_split(Corpus['Sentences'],Corpus['Label'],test_size=0.3)\n"
      ],
      "execution_count": null,
      "outputs": []
    },
    {
      "cell_type": "code",
      "metadata": {
        "id": "KoXZJcPge7ms",
        "colab": {
          "base_uri": "https://localhost:8080/"
        },
        "outputId": "697eb0ef-88ea-4341-e2a1-84ddd57be073"
      },
      "source": [
        "loaded_model = pickle.load(open(filename, 'rb'))\n",
        "\n",
        "predictions_SVM = loaded_model.predict_proba(Test_X_Tfidf)\n",
        "ans = list()\n",
        "\n",
        "i=0\n",
        "# print(test_sentence)\n",
        "for p in predictions_SVM:\n",
        "  if(p[1]-p[0]>0.1):\n",
        "    ans.append(1)\n",
        "  elif(p[0]-p[1]>0.1):\n",
        "    ans.append(0)\n",
        "  else:\n",
        "    ans.append(0.5)\n",
        "    print(test_sentence[test_sentence.index[i]])\n",
        "  i+=1\n",
        "\n",
        "print(ans)\n",
        "print(Test_Y)\n",
        "\n",
        "# Use accuracy_score function to get the accuracy\n",
        "# print(\"SVM Accuracy Score -> \",accuracy_score(ans, Test_Y)*100)"
      ],
      "execution_count": null,
      "outputs": [
        {
          "output_type": "stream",
          "name": "stdout",
          "text": [
            "['i', \"'d\", 'try', 'to', 'channel', 'my', 'nervous', 'energy', 'in', 'a', 'positive', 'way', 'into', 'strength', 'and', 'endurance', '.', 'it', 'did', \"n't\", 'always', 'work', '.']\n",
            "['there', 'is', 'no', 'chance', 'in', 'hell', 'i', \"'m\", 'letting', 'a', 'girl', 'beat', 'me', 'at', 'anything', '.', 'sorry']\n",
            "['nurtured', 'by', 'my', 'mother', ',', 'found', 'true', 'love', 'in', 'my', 'wife', 'and', 'understood', 'real', 'meaning', 'of', 'life', 'with', 'my', 'daughter', '.', 'i', \"'m\", 'blessed', '.']\n",
            "['it', 'happens', 'that', 'men', 'are', 'smarter', 'naturally']\n",
            "['girls', 'just', 'cant', 'sing', 'country', 'as', 'well', 'as', 'guys']\n",
            "['one', 'of', 'the', 'really', 'tough', 'things', 'is', 'figuring', 'out', 'what', 'questions', 'to', 'ask', '.', 'once', 'you', 'figure', 'out', 'the', 'question', ',', 'then', 'the', 'answer', 'is', 'relatively', 'easy', '.']\n",
            "['how', 'are', 'girls', 'so', 'bad', 'at', 'math', 'when', 'they', 'know', 'so', 'much', 'about', 'hair', 'volume', 'and', 'the', 'volume', 'of', 'their', 'mascara']\n",
            "['competition', 'is', 'not', 'about', 'fighting', ',', 'it', 'is', 'all', 'about', 'helping', 'each', 'other', 'to', 'achieve', 'a', 'common', 'goal', '.']\n",
            "['there', 'is', 'no', 'good', 'reason', 'a', 'woman', 'can', 'not', 'achieve', 'just', 'as', 'much', 'as', 'a', 'man', 'if', 'she', 'wants']\n",
            "['do', 'all', 'the', 'work', 'you', 'can', ',', 'while', 'you', 'can', '.']\n",
            "['should', 'men', 'and', 'women', 'have', 'equal', 'legal', 'rights', '?', 'definitely', 'not', '.']\n",
            "['i', 'think', 'male', 'comedians', 'are', 'funnier', 'than', 'female', 'ones']\n",
            "['i', 'think', 'doctors', 'should', 'stick', 'to', 'being', 'male']\n",
            "['dear', 'women', ',', 'nagging', 'does', 'not', 'work']\n",
            "['i', \"'m\", 'going', 'to', 'just', 'say', 'it', ',', 'women', 'ca', \"n't\", 'park', '.']\n",
            "['jeans', 'were', 'a', 'bit', 'tight', 'tonight', 'danielle', '?']\n",
            "['they', \"'re\", 'staying', 'just', 'so', 'that', 'the', 'producers', 'can', 'have', 'a', 'showdown', 'between', 'them', 'and', 'the', 'posh', 'bitches']\n",
            "['it', \"'s\", 'all', 'right', 'to', 'tell', 'a', 'guy', 'to', 'lift', 'himself', 'by', 'his', 'own', 'bootstraps', ',', 'but', 'it', 'is', 'cruel', 'to', 'say', 'to', 'a', 'bootless', 'guy', 'that', 'he', 'ought', 'to', 'lift', 'himself', 'by', 'his', 'own', 'bootstraps', '.']\n",
            "['i', 'ca', \"n't\", 'work', 'with', '5', 'female', 'managers', 'at', 'the', 'same', 'time', 'anymore']\n",
            "['whatever', 'you', 'make', ',', 'base', 'it', 'upon', 'that', 'which', 'is', 'most', 'important', 'to', 'you', '.', 'only', 'then', 'will', 'it', 'have', 'depth', 'and', 'meaning', ',', 'and', 'only', 'then', 'will', 'it', 'resonate', 'with', 'others', '.']\n",
            "['can', 'you', 'explain', 'why', 'what', 'she', 'described', 'there', 'is', 'wrong', '?']\n",
            "[1, 0, 0.5, 1, 0, 1, 0, 1, 1, 1, 1, 0, 1, 1, 1, 0, 0, 0, 0, 1, 0.5, 1, 0, 0, 0, 0, 1, 0.5, 1, 0, 0.5, 1, 0, 1, 1, 0.5, 0, 1, 1, 0, 1, 1, 1, 1, 0, 1, 1, 1, 0, 0, 0, 0, 0, 0, 1, 0.5, 0, 0, 1, 0, 1, 0, 1, 0, 1, 1, 1, 1, 0.5, 1, 1, 0, 1, 1, 0, 1, 1, 1, 1, 1, 0, 0, 0, 1, 0, 0, 1, 1, 0, 0, 1, 1, 0, 0, 0.5, 1, 1, 1, 1, 1, 1, 1, 0, 1, 1, 1, 0, 0, 1, 1, 0, 1, 1, 0, 0, 1, 1, 0, 0, 1, 1, 0, 0, 0, 1, 1, 1, 1, 0, 0, 0.5, 0, 1, 1, 1, 0, 1, 0, 1, 0, 0, 1, 0, 1, 0.5, 1, 1, 0, 0, 1, 0, 1, 0, 0, 0, 1, 1, 1, 1, 0, 0, 1, 1, 0, 0, 1, 1, 0, 0, 0, 1, 1, 0, 1, 1, 0, 1, 1, 1, 0, 0, 0, 0, 1, 1, 1, 1, 1, 0, 1, 1, 1, 0, 1, 0.5, 1, 1, 0, 1, 1, 1, 1, 1, 1, 0, 1, 0, 0.5, 0, 0, 1, 1, 1, 0, 0.5, 0, 0, 1, 0, 0, 1, 0.5, 0, 1, 0, 0, 0.5, 0, 0, 0, 1, 0, 0, 1, 1, 0, 1, 0.5, 1, 1, 1, 0, 1, 0.5, 1, 1, 1, 0, 1, 1, 1, 1, 0, 0, 0, 0, 1, 1, 0, 0, 0, 0, 0.5, 1, 1, 0.5, 0, 1, 1, 1, 0, 0, 0, 1, 0, 0, 0, 0, 1, 1, 1, 0.5, 0, 1, 0, 0, 1, 0, 1, 1, 1, 1, 1, 0, 1, 1, 0, 0.5, 1, 1, 0, 1, 0, 0, 1, 0, 1, 0, 0, 1, 0, 0, 1, 1, 1, 0, 0, 0, 0, 0, 1, 0, 1, 1, 0, 0, 1, 0, 0, 1, 0, 0, 1, 0, 0, 1, 1, 1, 1, 1, 1, 1]\n",
            "[1 0 1 1 0 1 0 0 0 1 1 0 1 1 1 0 0 0 0 1 1 1 0 0 1 0 1 1 1 0 0 1 0 0 1 1 0\n",
            " 0 1 0 1 1 0 1 1 1 1 1 0 0 0 0 0 1 0 1 0 0 1 0 1 0 1 0 1 1 0 0 1 1 0 0 1 1\n",
            " 0 0 1 0 0 0 0 0 0 1 0 1 1 1 0 1 1 1 0 0 1 0 1 1 1 1 1 1 0 1 0 0 0 0 1 1 0\n",
            " 0 1 0 1 1 1 0 0 1 0 0 0 0 1 1 1 1 0 0 1 1 1 1 1 1 0 0 1 0 0 1 0 1 0 0 1 0\n",
            " 0 1 0 0 0 0 0 0 1 1 1 0 1 1 1 0 0 1 1 0 0 0 1 1 0 1 1 0 1 1 1 0 0 0 0 1 1\n",
            " 1 1 1 0 1 1 1 1 0 1 0 1 0 1 0 1 1 1 1 1 0 0 0 0 1 0 1 0 0 1 0 0 1 0 1 1 0\n",
            " 0 1 0 0 0 0 0 0 0 1 0 0 1 0 1 0 1 1 1 0 0 1 0 0 1 1 1 1 1 1 0 0 0 0 1 1 0\n",
            " 0 0 0 0 1 1 1 0 1 1 1 0 0 0 0 0 0 1 0 1 1 1 0 0 1 0 0 1 0 1 1 1 1 1 0 0 0\n",
            " 1 0 1 1 1 1 0 0 1 0 1 0 0 1 1 0 1 0 0 0 0 0 0 1 1 0 1 0 0 0 1 0 0 1 0 0 1\n",
            " 0 0 1 1 1 1 0 1 1]\n"
          ]
        }
      ]
    },
    {
      "cell_type": "code",
      "metadata": {
        "colab": {
          "base_uri": "https://localhost:8080/",
          "height": 338
        },
        "id": "Sw6afHhjPQYS",
        "outputId": "39ed5313-22df-463b-d1ac-dd7af760c795"
      },
      "source": [
        "df = pd.DataFrame(ans)\n",
        "# print(df)\n",
        "result = df.groupby([0]).size()\n",
        "tot = (result[0.5]+result[1]+result[0])\n",
        "# result.plot(kind = \"pie\", title = \"Results\")\n",
        "plt.pie(result, labels = result.index)\n",
        "print(result)"
      ],
      "execution_count": null,
      "outputs": [
        {
          "output_type": "stream",
          "name": "stdout",
          "text": [
            "0\n",
            "0.0    144\n",
            "0.5     21\n",
            "1.0    177\n",
            "dtype: int64\n"
          ]
        },
        {
          "output_type": "display_data",
          "data": {
            "image/png": "[encoded data removed]",
            "text/plain": [
              "<Figure size 432x288 with 1 Axes>"
            ]
          },
          "metadata": {}
        }
      ]
    },
    {
      "cell_type": "code",
      "metadata": {
        "colab": {
          "base_uri": "https://localhost:8080/"
        },
        "id": "RoYFPiHIanJD",
        "outputId": "749d500b-00c0-4043-e3aa-69cd99159811"
      },
      "source": [
        "# fit the training dataset on the NB classifier\n",
        "Naive = naive_bayes.MultinomialNB()\n",
        "Naive.fit(Train_X_Tfidf,Train_Y)\n",
        "# predict the labels on validation dataset\n",
        "predictions_NB = Naive.predict(Test_X_Tfidf)\n",
        "# Use accuracy_score function to get the accuracy\n",
        "CM = (confusion_matrix(Test_Y, predictions_NB))\n",
        "PS=precision_score(Test_Y, predictions_NB, average='binary')\n",
        "RS=recall_score(Test_Y, predictions_NB, average='binary')\n",
        "print(CM)\n",
        "print(\"Naive Bayes Accuracy Score -> \",accuracy_score(predictions_NB, Test_Y)*100, \"%\")\n",
        "print(\"Naive Bayes Precision Score ->\", PS)\n",
        "print(\"Naive Bayes Recall Score ->\", RS)"
      ],
      "execution_count": null,
      "outputs": [
        {
          "output_type": "stream",
          "name": "stdout",
          "text": [
            "[[ 91  82]\n",
            " [ 15 154]]\n",
            "Naive Bayes Accuracy Score ->  71.6374269005848 %\n",
            "Naive Bayes Precision Score -> 0.652542372881356\n",
            "Naive Bayes Recall Score -> 0.9112426035502958\n"
          ]
        }
      ]
    },
    {
      "cell_type": "code",
      "metadata": {
        "colab": {
          "base_uri": "https://localhost:8080/"
        },
        "id": "8WI9aJReXDA5",
        "outputId": "66bc7e30-ceb6-441b-f401-ab922e8d8902"
      },
      "source": [
        "from sklearn.linear_model import LogisticRegression\n",
        "\n",
        "clf = LogisticRegression(random_state=0)\n",
        "clf.fit(Train_X_Tfidf, Train_Y)\n",
        "pred_Y = clf.predict(Test_X_Tfidf)\n",
        "\n",
        "CM = (confusion_matrix(Test_Y, pred_Y))\n",
        "PS = precision_score(Test_Y, pred_Y, average='binary')\n",
        "RS = recall_score(Test_Y, pred_Y, average='binary')\n",
        "print(CM)\n",
        "print(\"Logistic Regression Accuracy Score -> \",accuracy_score(pred_Y, Test_Y)*100, \"%\")\n",
        "print(\"Logistic Regression  Precision Score ->\", PS)\n",
        "print(\"Logistic Regression  Recall Score ->\", RS)"
      ],
      "execution_count": null,
      "outputs": [
        {
          "output_type": "stream",
          "name": "stdout",
          "text": [
            "[[ 97  76]\n",
            " [ 14 155]]\n",
            "Logistic Regression Accuracy Score ->  73.68421052631578 %\n",
            "Logistic Regression  Precision Score -> 0.670995670995671\n",
            "Logistic Regression  Recall Score -> 0.9171597633136095\n"
          ]
        }
      ]
    },
    {
      "cell_type": "code",
      "metadata": {
        "colab": {
          "base_uri": "https://localhost:8080/"
        },
        "id": "GT76MjVDccEY",
        "outputId": "313dfc30-ef85-48c7-966f-54a16e604f24"
      },
      "source": [
        "from sklearn.feature_extraction.text import CountVectorizer\n",
        "\n",
        "bow_converter = CountVectorizer(tokenizer=lambda doc: doc, lowercase=False)\n",
        "x = bow_converter.fit_transform(Train_X)\n",
        "x_test = bow_converter.fit_transform(Test_X)\n",
        "words = bow_converter.get_feature_names()\n",
        "len(words)\n",
        "\n",
        "clf = LogisticRegression(random_state=0)\n",
        "clf.fit(x, Train_Y)\n",
        "pred_Y = clf.predict(x_test)\n",
        "\n",
        "CM = (confusion_matrix(Test_Y, pred_Y))\n",
        "PS = precision_score(Test_Y, pred_Y, average='binary')\n",
        "RS = recall_score(Test_Y, pred_Y, average='binary')\n",
        "print(CM)\n",
        "print(\"Logistic Regression Accuracy Score -> \",accuracy_score(pred_Y, Test_Y)*100, \"%\")\n",
        "print(\"Logistic Regression  Precision Score ->\", PS)\n",
        "print(\"Logistic Regression  Recall Score ->\", RS)\n"
      ],
      "execution_count": null,
      "outputs": [
        {
          "output_type": "stream",
          "name": "stdout",
          "text": [
            "[[ 82  91]\n",
            " [ 42 127]]\n",
            "Logistic Regression Accuracy Score ->  61.111111111111114 %\n",
            "Logistic Regression  Precision Score -> 0.5825688073394495\n",
            "Logistic Regression  Recall Score -> 0.7514792899408284\n"
          ]
        },
        {
          "output_type": "stream",
          "name": "stderr",
          "text": [
            "/usr/local/lib/python3.7/dist-packages/sklearn/linear_model/_logistic.py:940: ConvergenceWarning: lbfgs failed to converge (status=1):\n",
            "STOP: TOTAL NO. of ITERATIONS REACHED LIMIT.\n",
            "\n",
            "Increase the number of iterations (max_iter) or scale the data as shown in:\n",
            "    https://scikit-learn.org/stable/modules/preprocessing.html\n",
            "Please also refer to the documentation for alternative solver options:\n",
            "    https://scikit-learn.org/stable/modules/linear_model.html#logistic-regression\n",
            "  extra_warning_msg=_LOGISTIC_SOLVER_CONVERGENCE_MSG)\n"
          ]
        }
      ]
    },
    {
      "cell_type": "code",
      "metadata": {
        "colab": {
          "base_uri": "https://localhost:8080/"
        },
        "id": "_Od492k8a5DZ",
        "outputId": "96b8cc67-2edf-4fdf-867b-b64df6047998"
      },
      "source": [
        "from sklearn.ensemble import RandomForestClassifier\n",
        "from sklearn.datasets import make_classification\n",
        "\n",
        "make_classification(n_samples=1000, n_features=4, n_informative=2, n_redundant=0, random_state=0, shuffle=False)\n",
        "clf = RandomForestClassifier(max_depth=2, random_state=0)\n",
        "clf.fit(Train_X_Tfidf, Train_Y)\n",
        "pred_Y = clf.predict(Test_X_Tfidf)\n",
        "\n",
        "CM = (confusion_matrix(Test_Y, pred_Y))\n",
        "PS = precision_score(Test_Y, pred_Y, average='binary')\n",
        "RS = recall_score(Test_Y, pred_Y, average='binary')\n",
        "print(CM)\n",
        "print(\"Logistic Regression Accuracy Score -> \",accuracy_score(pred_Y, Test_Y)*100, \"%\")\n",
        "print(\"Logistic Regression  Precision Score ->\", PS)\n",
        "print(\"Logistic Regression  Recall Score ->\", RS)"
      ],
      "execution_count": null,
      "outputs": [
        {
          "output_type": "stream",
          "name": "stdout",
          "text": [
            "[[  0 173]\n",
            " [  0 169]]\n",
            "Logistic Regression Accuracy Score ->  49.41520467836257 %\n",
            "Logistic Regression  Precision Score -> 0.49415204678362573\n",
            "Logistic Regression  Recall Score -> 1.0\n"
          ]
        }
      ]
    }
  ]
}